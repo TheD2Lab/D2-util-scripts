{
 "cells": [
  {
   "cell_type": "code",
   "execution_count": 123,
   "id": "d619bdc4-e8dd-47a1-8147-7ca95cc866f2",
   "metadata": {},
   "outputs": [],
   "source": [
    "# how to run it:\n",
    "# % java -cp \"libs/*:data/*:src\" analysis.main"
   ]
  },
  {
   "cell_type": "code",
   "execution_count": 41,
   "id": "1be665fa-1ecb-4154-8bf9-909dc8cf0337",
   "metadata": {},
   "outputs": [
    {
     "name": "stdout",
     "output_type": "stream",
     "text": [
      "Files copied to batch_process_me\n"
     ]
    }
   ],
   "source": [
    "# Prepare eye tracking data for analysis.\n",
    "# The d2 lab has software that can batch analyze the eye tracking data.\n",
    "# It requires the format: p{ID}_all_gaze.csv, p{ID}_fixations.csv\n",
    "# The eye tracking data is copied to a folder called \"batch_process_me\"\n",
    "\n",
    "import os\n",
    "import shutil\n",
    "\n",
    "# Set the path to the ILS Official Study Data and the destination folder\n",
    "study_data_path = \"ILS Official Study Data\"\n",
    "dest_folder = \"batch_process_me\"\n",
    "parent_dir = \".\"  # Current directory. You can specify another path as needed\n",
    "\n",
    "path = os.path.join(parent_dir, dest_folder)\n",
    "\n",
    "# Create the destination folder if it doesn't exist\n",
    "os.makedirs(path, exist_ok=True)\n",
    "\n",
    "# List all the participant directories in the study data folder\n",
    "participant_dirs = [d for d in os.listdir(study_data_path) if d.startswith(\"p\")]\n",
    "\n",
    "# Loop through each participant directory\n",
    "for participant_dir in participant_dirs:\n",
    "    # Construct the path to the participant's directory\n",
    "    participant_path = os.path.join(study_data_path, participant_dir)\n",
    "    \n",
    "    # Check if it's a directory\n",
    "    if os.path.isdir(participant_path):\n",
    "\n",
    "        # List all files in the participant directory\n",
    "        for file in os.listdir(participant_path):\n",
    "            # Check for the specific files we want to copy\n",
    "            if file.endswith(\"_all_gaze.csv\") or file.endswith(\"_fixations.csv\"):\n",
    "                # Construct the full path to the file\n",
    "                file_path = os.path.join(participant_path, file)\n",
    "                # Copy the file to the destination folder\n",
    "                shutil.copy(file_path, dest_folder)\n",
    "\n",
    "print(\"Files copied to\", dest_folder)"
   ]
  },
  {
   "cell_type": "code",
   "execution_count": 72,
   "id": "f0eddd5d-198e-4d08-9258-c53cce148d08",
   "metadata": {},
   "outputs": [
    {
     "name": "stdout",
     "output_type": "stream",
     "text": [
      "All files have been combined into all_participants_gaze_metrics.csv\n"
     ]
    }
   ],
   "source": [
    "# Now that we have computed our gaze mertics,\n",
    "# We combine them into a single CSV\n",
    "\n",
    "import pandas as pd\n",
    "import os\n",
    "\n",
    "# Define the directory containing the participant folders\n",
    "base_directory = \"gaze_metrics\"\n",
    "combined_gaze_metrics_csv = \"all_participants_gaze_metrics.csv\"\n",
    "\n",
    "# List to hold data from each participant's CSV file\n",
    "all_data = []\n",
    "\n",
    "# Loop through each item in the base directory\n",
    "for item in os.listdir(base_directory):\n",
    "    participant_dir = os.path.join(base_directory, item)\n",
    "    \n",
    "    # Check if the item is a directory (e.g., p1, p2, etc.)\n",
    "    if os.path.isdir(participant_dir):\n",
    "        csv_file = os.path.join(participant_dir, \"combineResults.csv\")\n",
    "\n",
    "        # Check if the CSV file exists in this directory\n",
    "        if os.path.exists(csv_file):\n",
    "            df = pd.read_csv(csv_file)\n",
    "\n",
    "            # Extract participant ID, assuming the format is 'p<number>'\n",
    "            participant_id = int(item[1:])  # This removes the 'p' and converts to integer\n",
    "            df['Participant'] = participant_id\n",
    "\n",
    "            all_data.append(df)\n",
    "\n",
    "# Concatenate all data into a single DataFrame\n",
    "combined_data = pd.concat(all_data, ignore_index=True)\n",
    "\n",
    "# Sort the DataFrame based on the participant number\n",
    "combined_data = combined_data.sort_values(by='Participant')\n",
    "\n",
    "# Move 'Participant' column to the first position\n",
    "first_column = combined_data.pop('Participant')\n",
    "combined_data.insert(0, 'Participant', first_column)\n",
    "\n",
    "# Save the combined data to a new CSV file\n",
    "combined_data.to_csv(combined_gaze_metrics_csv, index=False)\n",
    "\n",
    "print(f\"All files have been combined into {combined_gaze_metrics_csv}\")"
   ]
  },
  {
   "cell_type": "code",
   "execution_count": 111,
   "id": "28058731-fa77-4524-8592-687992f5c180",
   "metadata": {},
   "outputs": [
    {
     "name": "stdout",
     "output_type": "stream",
     "text": [
      "All scores have been combined into all_participants_scores.csv\n"
     ]
    }
   ],
   "source": [
    "# With the gaze metrics for each participant combined,\n",
    "# It is time to add performance scores \n",
    "# (additional subjective data to be added later)\n",
    "\n",
    "# First, we combine the performance scores into a single csv.\n",
    "# Define the directory containing the scores\n",
    "scores_directory = \"pilot_scores\"\n",
    "combined_scores_csv = \"all_participants_scores.csv\"\n",
    "\n",
    "# List to hold data from each participant's score file\n",
    "all_scores_data = []\n",
    "\n",
    "# Loop through each item in the base directory\n",
    "for item in os.listdir(scores_directory):\n",
    "    participant_dir = os.path.join(scores_directory, item)\n",
    "    \n",
    "    # Check if the item is a directory (e.g., p1, p2, etc.)\n",
    "    if os.path.isdir(participant_dir):\n",
    "        scores_csv_file = os.path.join(participant_dir, f\"{item}_score.csv\")\n",
    "        \n",
    "        # Check if the CSV file exists\n",
    "        if os.path.exists(scores_csv_file):\n",
    "            scores_df = pd.read_csv(scores_csv_file)\n",
    "\n",
    "            # Extract participant number, assuming the format is 'p<number>'\n",
    "            participant_number = int(item[1:])  # This removes the 'p' prefix\n",
    "\n",
    "            # Add a column for the participant number as the first column\n",
    "            scores_df.insert(0, 'Participant', participant_number)\n",
    "            \n",
    "            all_scores_data.append(scores_df)\n",
    "\n",
    "# Concatenate all data into a single DataFrame\n",
    "combined_scores_data = pd.concat(all_scores_data, ignore_index=True)\n",
    "\n",
    "# Sort the DataFrame based on the participant number\n",
    "combined_scores_data = combined_scores_data.sort_values(by='Participant')\n",
    "\n",
    "# Save the combined data to a new CSV file\n",
    "combined_scores_data.to_csv(combined_scores_csv, index=False)\n",
    "\n",
    "print(f\"All scores have been combined into {combined_scores_csv}\")"
   ]
  },
  {
   "cell_type": "code",
   "execution_count": 112,
   "id": "90e3c511-9fb2-4091-a4e3-009d6b89fe47",
   "metadata": {},
   "outputs": [
    {
     "name": "stdout",
     "output_type": "stream",
     "text": [
      "Gaze metrics and scores have been combined into combined_gaze_metrics_and_scores.csv\n"
     ]
    }
   ],
   "source": [
    "# Here we combine the scores and the gaze metrics into a single CSV.\n",
    "\n",
    "import pandas as pd\n",
    "\n",
    "# File paths\n",
    "gaze_metrics_csv = \"all_participants_gaze_metrics.csv\"\n",
    "scores_csv = \"all_participants_scores.csv\"\n",
    "combined_csv = \"combined_gaze_metrics_and_scores.csv\"\n",
    "\n",
    "# Read the gaze metrics and scores into DataFrames\n",
    "gaze_metrics_df = pd.read_csv(gaze_metrics_csv)\n",
    "scores_df = pd.read_csv(scores_csv)\n",
    "\n",
    "# Merge the DataFrames on the 'Participant' column\n",
    "# Ensure that the 'Participant' column is consistent and present in both DataFrames\n",
    "combined_df = pd.merge(gaze_metrics_df, scores_df, on='Participant')\n",
    "\n",
    "# Save the combined DataFrame to a new CSV file\n",
    "combined_df.to_csv(combined_csv, index=False)\n",
    "\n",
    "print(f\"Gaze metrics and scores have been combined into {combined_csv}\")"
   ]
  },
  {
   "cell_type": "code",
   "execution_count": 115,
   "id": "8d29d8f6-48ec-42b5-9f22-a676f1da3fdc",
   "metadata": {},
   "outputs": [],
   "source": [
    "# Time to split the participants on expertise\n",
    "# Using approach score here because that's what we have.\n",
    "\n",
    "data_csv = \"combined_gaze_metrics_and_scores.csv\"\n",
    "data_df = pd.read_csv(data_csv)\n",
    "\n",
    "# Sort the DataFrame based on the \"Approach Score\" column\n",
    "sorted_df = data_df.sort_values(by='Approach Score', ascending=False)\n",
    "\n",
    "# Find the index to split the DataFrame into two equal groups\n",
    "middle_index = len(sorted_df) // 2\n",
    "\n",
    "# Split the DataFrame into two groups based on sorted order\n",
    "lower_half = sorted_df[middle_index:]  # Participants with lower scores\n",
    "upper_half = sorted_df[:middle_index]  # Participants with higher scores\n",
    "\n",
    "upper_half.to_csv('higher_approach_scores.csv', index=False)\n",
    "lower_half.to_csv('lower_approach_scores.csv', index=False)\n",
    "\n",
    "print(\"The data has been saved into 'higher_approach_scores.csv' and 'lower_approach_scores.csv'.\")"
   ]
  },
  {
   "cell_type": "code",
   "execution_count": 149,
   "id": "c7f31ce8-bd8d-4feb-9e72-83dba26124ee",
   "metadata": {},
   "outputs": [
    {
     "name": "stdout",
     "output_type": "stream",
     "text": [
      "Pilot experience data saved to pilot_experience.csv\n"
     ]
    }
   ],
   "source": [
    "# Extracting pilot experience in hours from pre-study survey\n",
    "\n",
    "import pandas as pd\n",
    "\n",
    "# Define the file path\n",
    "file_path = 'ILS Official Study Data/Questionaires/Pre-study Survey  (Responses).xlsx'\n",
    "\n",
    "# Load the Excel file into a DataFrame\n",
    "df = pd.read_excel(file_path)\n",
    "\n",
    "# all_columns = [\n",
    "#     \"Timestamp\", \n",
    "#     \"Enter your Last Name, First Name\", \n",
    "#     \"Enter your Email\", \n",
    "#     \"1. Which category below would best describe you?\", \n",
    "#     \"2. What pilot license/certificate/endorsements do you currently hold? Select all that apply.\",\n",
    "#     \"3. What is your total flight time to date (in hours)? (Including in a real aircraft or in an FAA approved full flight simulator or training device)\",\n",
    "#     \"4. Approximately how many hours in a FAA approved full flight simulator or training device do you currently hold?\",\n",
    "#     \"5. How many actual instrument hours do you have? (actual instrument conditions in an aircraft)\",\n",
    "#     \"6. How many simulated instrument hours do you have? (simulated in a real aircraft and/or in FAA approved flight simulator or training device)\",\n",
    "#     \"7. How many instrument approaches have you done within the last 6 months?\",\n",
    "#     \"8. In the past two years, approximately how many total hours have you spent using an at-home simulator such as X-Plane or Microsoft Flight Simulator?\",\n",
    "#     \"9. How many hours per week do you play console/PC video games?\",\n",
    "#     \"Enter your Airmen Certificate Number\",\n",
    "#     \"Enter your age\",\n",
    "#     \"Participant ID\",\n",
    "#     \"How did they hear about the study?\",\n",
    "#     \"Notes\",\n",
    "#     \"FAA Airmen Inquiry Database\"\n",
    "# ]\n",
    "\n",
    "selected_columns = [\n",
    "    \"Participant ID\",\n",
    "    \"1. Which category below would best describe you?\", \n",
    "    \"2. What pilot license/certificate/endorsements do you currently hold? Select all that apply.\",\n",
    "    \"3. What is your total flight time to date (in hours)? (Including in a real aircraft or in an FAA approved full flight simulator or training device)\",\n",
    "    #\"4. Approximately how many hours in a FAA approved full flight simulator or training device do you currently hold?\",\n",
    "    #\"5. How many actual instrument hours do you have? (actual instrument conditions in an aircraft)\",\n",
    "    #\"6. How many simulated instrument hours do you have? (simulated in a real aircraft and/or in FAA approved flight simulator or training device)\",\n",
    "    #\"7. How many instrument approaches have you done within the last 6 months?\",\n",
    "    #\"8. In the past two years, approximately how many total hours have you spent using an at-home simulator such as X-Plane or Microsoft Flight Simulator?\",\n",
    "    #\"9. How many hours per week do you play console/PC video games?\"\n",
    "]\n",
    "\n",
    "# Create a new DataFrame with only the selected columns\n",
    "df_selected = df[selected_columns]\n",
    "\n",
    "# Filter the DataFrame to keep only rows where the participant ID matches \"p{number}\"\n",
    "df_filtered = df_selected.copy()[df_selected['Participant ID'].str.match(r'^p\\d+$', na=False)]\n",
    "\n",
    "# Step 1: Remove the 'p' from the participant ID\n",
    "df_filtered['Participant ID'] = df_filtered['Participant ID'].str.replace('p', '')\n",
    "\n",
    "# Step 2: Convert the participant ID to integer for proper sorting\n",
    "df_filtered['Participant ID'] = df_filtered['Participant ID'].astype(int)\n",
    "\n",
    "# Step 3: Sort the DataFrame based on the participant ID\n",
    "df_sorted = df_filtered.sort_values('Participant ID')\n",
    "\n",
    "# Set 'Participant ID' as the index of the DataFrame\n",
    "df_sorted.set_index('Participant ID', inplace=True)\n",
    "\n",
    "# Display the first few rows of the DataFrame with the new index\n",
    "#print(df_sorted.head())\n",
    "\n",
    "pilot_experience_csv = \"pilot_experience.csv\"\n",
    "# Save the pilot experience DataFrame to a new CSV file\n",
    "df_sorted.to_csv(pilot_experience_csv)\n",
    "\n",
    "print(f\"Pilot experience data saved to {pilot_experience_csv}\")"
   ]
  },
  {
   "cell_type": "code",
   "execution_count": 153,
   "id": "284067e3-522b-46cf-8f64-f035884e86c8",
   "metadata": {},
   "outputs": [
    {
     "name": "stdout",
     "output_type": "stream",
     "text": [
      "Gaze metrics and scores and experience have been combined into combined_experience_gaze_metrics_and_scores.csv\n"
     ]
    }
   ],
   "source": [
    "# Here we combine the expertise, scores, and the gaze metrics into a single CSV.\n",
    "\n",
    "import pandas as pd\n",
    "\n",
    "# File paths\n",
    "gaze_metrics_and_scores_csv = \"combined_gaze_metrics_and_scores.csv\"\n",
    "pilot_experience_csv = \"pilot_experience.csv\"\n",
    "combined_3_csv = \"combined_experience_gaze_metrics_and_scores.csv\"\n",
    "\n",
    "\n",
    "# Read the gaze metrics and scores into DataFrames\n",
    "gaze_metrics_and_scores_df = pd.read_csv(gaze_metrics_and_scores_csv)\n",
    "pilot_experience_df = pd.read_csv(pilot_experience_csv)\n",
    "\n",
    "# Merge the DataFrames on the 'Participant' column\n",
    "# Ensure that the 'Participant' column is consistent and present in both DataFrames\n",
    "combined_df = pd.merge(gaze_metrics_and_scores_df, pilot_experience_df, left_on='Participant', right_on='Participant ID')\n",
    "\n",
    "# Drop the 'participant id' column as it is redundant\n",
    "combined_df.drop('Participant ID', axis=1, inplace=True)\n",
    "\n",
    "# Save the combined DataFrame to a new CSV file\n",
    "combined_df.to_csv(combined_3_csv, index=False)\n",
    "\n",
    "print(f\"Gaze metrics and scores and experience have been combined into {combined_3_csv}\")"
   ]
  },
  {
   "cell_type": "code",
   "execution_count": 154,
   "id": "856bd660-84f2-4603-a651-3144a79bccd7",
   "metadata": {},
   "outputs": [
    {
     "name": "stdout",
     "output_type": "stream",
     "text": [
      "count       32.000000\n",
      "mean      1132.962500\n",
      "std       3056.684582\n",
      "min         70.000000\n",
      "25%        188.475000\n",
      "50%        358.050000\n",
      "75%        912.500000\n",
      "max      17527.000000\n",
      "Name: 3. What is your total flight time to date (in hours)? (Including in a real aircraft or in an FAA approved full flight simulator or training device), dtype: float64\n"
     ]
    }
   ],
   "source": [
    "# Print basic statistics for the \"flight hours\" column\n",
    "print(combined_df[\"3. What is your total flight time to date (in hours)? (Including in a real aircraft or in an FAA approved full flight simulator or training device)\"].describe())"
   ]
  },
  {
   "cell_type": "code",
   "execution_count": 155,
   "id": "67d54634-0227-448a-bddc-af4fe631c4d1",
   "metadata": {},
   "outputs": [
    {
     "name": "stdout",
     "output_type": "stream",
     "text": [
      "The data has been saved into 'higher_hours.csv' and 'lower_hours.csv'.\n"
     ]
    }
   ],
   "source": [
    "# Split the pilot data on median flight hours\n",
    "\n",
    "data_csv = \"combined_experience_gaze_metrics_and_scores.csv\"\n",
    "data_df = pd.read_csv(data_csv)\n",
    "\n",
    "# Sort the DataFrame based on the \"Approach Score\" column\n",
    "sorted_df = data_df.sort_values(by=\"3. What is your total flight time to date (in hours)? (Including in a real aircraft or in an FAA approved full flight simulator or training device)\", ascending=False)\n",
    "\n",
    "# Find the index to split the DataFrame into two equal groups\n",
    "middle_index = len(sorted_df) // 2\n",
    "\n",
    "# Split the DataFrame into two groups based on sorted order\n",
    "lower_half = sorted_df[middle_index:] # Participants with fewer hours\n",
    "upper_half = sorted_df[:middle_index] # Participants with more hours\n",
    "\n",
    "upper_half.to_csv('higher_hours.csv', index=False)\n",
    "lower_half.to_csv('lower_hours.csv', index=False)\n",
    "\n",
    "print(\"The data has been saved into 'higher_hours.csv' and 'lower_hours.csv'.\")"
   ]
  },
  {
   "cell_type": "code",
   "execution_count": null,
   "id": "8a5b5c35-b9b3-4bf1-902c-688c18661ccf",
   "metadata": {},
   "outputs": [],
   "source": []
  }
 ],
 "metadata": {
  "kernelspec": {
   "display_name": "Python 3 (ipykernel)",
   "language": "python",
   "name": "python3"
  },
  "language_info": {
   "codemirror_mode": {
    "name": "ipython",
    "version": 3
   },
   "file_extension": ".py",
   "mimetype": "text/x-python",
   "name": "python",
   "nbconvert_exporter": "python",
   "pygments_lexer": "ipython3",
   "version": "3.11.0"
  }
 },
 "nbformat": 4,
 "nbformat_minor": 5
}
